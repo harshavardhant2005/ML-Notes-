{
 "cells": [
  {
   "cell_type": "markdown",
   "metadata": {},
   "source": [
    "### public modifier\n"
   ]
  },
  {
   "cell_type": "code",
   "execution_count": 2,
   "metadata": {},
   "outputs": [
    {
     "data": {
      "text/plain": [
       "'harsha'"
      ]
     },
     "execution_count": 2,
     "metadata": {},
     "output_type": "execute_result"
    }
   ],
   "source": [
    "class person :\n",
    "    def __init__(self,age,name) -> None:\n",
    "        self.age = age\n",
    "        self.name = name \n",
    "p1 = person(17,\"harsha\")\n",
    "p1.name"
   ]
  },
  {
   "cell_type": "markdown",
   "metadata": {},
   "source": [
    "### private "
   ]
  },
  {
   "cell_type": "code",
   "execution_count": 49,
   "metadata": {},
   "outputs": [],
   "source": [
    "class person:\n",
    "    def __init__(self,name,age) -> None:\n",
    "        self.__name = name\n",
    "        self.__age = age\n",
    "#we cannot get the acess so we are using getter and setter\n",
    "    def get_name(self):\n",
    "        return self.__name\n",
    "    #setter\n",
    "    def set_name(self,name):\n",
    "        self.__name=name\n",
    "     "
   ]
  },
  {
   "cell_type": "code",
   "execution_count": 50,
   "metadata": {},
   "outputs": [
    {
     "name": "stdout",
     "output_type": "stream",
     "text": [
      "harsha\n",
      "vickyy\n"
     ]
    }
   ],
   "source": [
    "p1 = person(\"harsha\",18)\n",
    "print(person.get_name(p1))\n",
    "name  = \"vickyy\"\n",
    "person.set_name(p1,name)\n",
    "print(person.get_name(p1))"
   ]
  },
  {
   "cell_type": "markdown",
   "metadata": {},
   "source": [
    "### protected\n"
   ]
  },
  {
   "cell_type": "code",
   "execution_count": 1,
   "metadata": {},
   "outputs": [
    {
     "data": {
      "text/plain": [
       "'harsha'"
      ]
     },
     "execution_count": 1,
     "metadata": {},
     "output_type": "execute_result"
    }
   ],
   "source": [
    "class person:\n",
    "    def __init__(self,name,age) -> None:\n",
    "        self._name = name\n",
    "        self._age = age\n",
    "class emp(person):\n",
    "    def __init__(self,name,age) -> None:\n",
    "        super().__init__(name,age)\n",
    "\n",
    "employee = emp(\"harsha\",18)\n",
    "employee._name"
   ]
  }
 ],
 "metadata": {
  "kernelspec": {
   "display_name": "Python 3",
   "language": "python",
   "name": "python3"
  },
  "language_info": {
   "codemirror_mode": {
    "name": "ipython",
    "version": 3
   },
   "file_extension": ".py",
   "mimetype": "text/x-python",
   "name": "python",
   "nbconvert_exporter": "python",
   "pygments_lexer": "ipython3",
   "version": "3.10.14"
  }
 },
 "nbformat": 4,
 "nbformat_minor": 2
}
