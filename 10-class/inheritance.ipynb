{
 "cells": [
  {
   "cell_type": "markdown",
   "metadata": {},
   "source": [
    "single inheritance\n"
   ]
  },
  {
   "cell_type": "code",
   "execution_count": 7,
   "metadata": {},
   "outputs": [
    {
     "data": {
      "text/plain": [
       "'nylon'"
      ]
     },
     "execution_count": 7,
     "metadata": {},
     "output_type": "execute_result"
    }
   ],
   "source": [
    "class dress:\n",
    "    def __init__(self,type,fabric) -> None:\n",
    "        self.type = type\n",
    "        self.fabric = fabric\n",
    "    def people(self):\n",
    "        print(\"He is trendy\")\n",
    "dr = dress(\"fabrics\",\"nylon\")\n",
    "dr.fabric\n",
    "        "
   ]
  },
  {
   "cell_type": "code",
   "execution_count": 2,
   "metadata": {},
   "outputs": [],
   "source": [
    "class human(dress):\n",
    "    def __init__(self, type, fabric,name) :\n",
    "        super().__init__(type, fabric)\n",
    "        self.name = name\n",
    "    def star (self):\n",
    "        print(f\"Look here comes star mr.{self.name}\")"
   ]
  },
  {
   "cell_type": "code",
   "execution_count": 3,
   "metadata": {},
   "outputs": [
    {
     "name": "stdout",
     "output_type": "stream",
     "text": [
      "Look here comes star mr.harsha\n",
      "None\n",
      "He is trendy\n",
      "None\n"
     ]
    }
   ],
   "source": [
    "##main\n",
    "person = human(\"nylon\",\"drop shoulder\",\"harsha\")\n",
    "print(person.star())\n",
    "print(person.people())"
   ]
  },
  {
   "cell_type": "markdown",
   "metadata": {},
   "source": [
    "multiple inheritance"
   ]
  },
  {
   "cell_type": "code",
   "execution_count": 4,
   "metadata": {},
   "outputs": [],
   "source": [
    "class animal:\n",
    "    def __init__(self,name) -> None:\n",
    "        self.name = name \n",
    "    def speak(self):\n",
    "        print(\"hello world \")\n",
    "\n",
    "class pet:\n",
    "    def __init__(self,owner) -> None:\n",
    "        self.owner = owner\n"
   ]
  },
  {
   "cell_type": "code",
   "execution_count": 5,
   "metadata": {},
   "outputs": [],
   "source": [
    "class dog(animal,pet):\n",
    "    def __init__(self,name,owner) -> None:\n",
    "        animal.__init__(self,name)\n",
    "        pet.__init__(self,owner)\n",
    "    def speak(self):\n",
    "        return (f\"I am an {self.name} . I belongs to {self.owner}\")"
   ]
  },
  {
   "cell_type": "code",
   "execution_count": 6,
   "metadata": {},
   "outputs": [
    {
     "name": "stdout",
     "output_type": "stream",
     "text": [
      "I am an dog . I belongs to leo\n"
     ]
    }
   ],
   "source": [
    "doggy = dog(name=\"dog\",owner=\"leo\")\n",
    "print(doggy.speak())"
   ]
  }
 ],
 "metadata": {
  "kernelspec": {
   "display_name": "Python 3",
   "language": "python",
   "name": "python3"
  },
  "language_info": {
   "codemirror_mode": {
    "name": "ipython",
    "version": 3
   },
   "file_extension": ".py",
   "mimetype": "text/x-python",
   "name": "python",
   "nbconvert_exporter": "python",
   "pygments_lexer": "ipython3",
   "version": "3.10.14"
  }
 },
 "nbformat": 4,
 "nbformat_minor": 2
}
