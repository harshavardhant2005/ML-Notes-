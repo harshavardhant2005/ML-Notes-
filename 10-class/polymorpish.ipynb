{
 "cells": [
  {
   "cell_type": "markdown",
   "metadata": {},
   "source": [
    "\n",
    "example of method overriding\n",
    "\n"
   ]
  },
  {
   "cell_type": "code",
   "execution_count": 1,
   "metadata": {},
   "outputs": [],
   "source": [
    "class animal:\n",
    "    def speak(self):\n",
    "        return \"sound of animal\"\n"
   ]
  },
  {
   "cell_type": "code",
   "execution_count": 2,
   "metadata": {},
   "outputs": [],
   "source": [
    "class dog(animal):\n",
    "    def speak(self):\n",
    "        return \"woof!\"\n"
   ]
  },
  {
   "cell_type": "code",
   "execution_count": 3,
   "metadata": {},
   "outputs": [],
   "source": [
    "class cat(animal):\n",
    "    def speak(self):\n",
    "        return \"meow meow !\"\n"
   ]
  },
  {
   "cell_type": "code",
   "execution_count": 4,
   "metadata": {},
   "outputs": [
    {
     "name": "stdout",
     "output_type": "stream",
     "text": [
      "woof!\n",
      "meow meow !\n"
     ]
    }
   ],
   "source": [
    "doggy = dog()\n",
    "catty = cat()\n",
    "print(doggy.speak())\n",
    "print(catty.speak())"
   ]
  },
  {
   "cell_type": "markdown",
   "metadata": {},
   "source": [
    "example of polymorpish using abc\"s\n"
   ]
  },
  {
   "cell_type": "code",
   "execution_count": 10,
   "metadata": {},
   "outputs": [],
   "source": [
    "from abc import ABC,abstractmethod\n",
    "#abstract class\n",
    "\n",
    "class vechicle:\n",
    "    @abstractmethod\n",
    "    def start(self):\n",
    "        pass\n",
    "class audi(vechicle):\n",
    "    def start(self):\n",
    "        return \"starting audi engine...........\"\n",
    "class bmw(vechicle):\n",
    "    def start(self):\n",
    "        return \"starting bmw engine............\"\n",
    "def start_engine(vechicle):\n",
    "    print(vechicle.start())"
   ]
  },
  {
   "cell_type": "code",
   "execution_count": 9,
   "metadata": {},
   "outputs": [
    {
     "name": "stdout",
     "output_type": "stream",
     "text": [
      "starting bmw engine............\n",
      "starting audi engine...........\n"
     ]
    }
   ],
   "source": [
    "bmw_car = bmw()\n",
    "audi_car = audi()\n",
    "start_engine(bmw_car)\n",
    "start_engine(audi_car)"
   ]
  }
 ],
 "metadata": {
  "kernelspec": {
   "display_name": "Python 3",
   "language": "python",
   "name": "python3"
  },
  "language_info": {
   "codemirror_mode": {
    "name": "ipython",
    "version": 3
   },
   "file_extension": ".py",
   "mimetype": "text/x-python",
   "name": "python",
   "nbconvert_exporter": "python",
   "pygments_lexer": "ipython3",
   "version": "3.10.14"
  }
 },
 "nbformat": 4,
 "nbformat_minor": 2
}
