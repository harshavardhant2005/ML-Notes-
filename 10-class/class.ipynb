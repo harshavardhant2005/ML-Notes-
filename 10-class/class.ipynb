{
 "cells": [
  {
   "cell_type": "code",
   "execution_count": 29,
   "metadata": {},
   "outputs": [],
   "source": [
    "class car :\n",
    "    def __init__(self,make,model,year) :\n",
    "        self.model = model \n",
    "        self.year = year \n",
    "        self.make = make \n",
    "    def engine(self):\n",
    "        print(\"engine is started ....\")"
   ]
  },
  {
   "cell_type": "code",
   "execution_count": 30,
   "metadata": {},
   "outputs": [
    {
     "name": "stdout",
     "output_type": "stream",
     "text": [
      "engine is started ....\n"
     ]
    }
   ],
   "source": [
    "#main\n",
    "bmw = car(\"germany\",\"X 3\",\"2024\")\n",
    "bmw.engine()"
   ]
  },
  {
   "cell_type": "code",
   "execution_count": 31,
   "metadata": {},
   "outputs": [
    {
     "data": {
      "text/plain": [
       "'harsha'"
      ]
     },
     "execution_count": 31,
     "metadata": {},
     "output_type": "execute_result"
    }
   ],
   "source": [
    "class student :\n",
    "    def __init__(self,name,age) -> None:\n",
    "        self.name = name \n",
    "        self.age = age\n",
    "stu1 = student(\"harsha\",40)\n",
    "stu1.name"
   ]
  },
  {
   "cell_type": "code",
   "execution_count": 33,
   "metadata": {},
   "outputs": [
    {
     "name": "stdout",
     "output_type": "stream",
     "text": [
      "withdraw amount : 100, balance :9900\n",
      "deposited :2000, balance :11900\n"
     ]
    }
   ],
   "source": [
    "class Bankaccount:\n",
    "    def __init__(self,account_number,balance) :\n",
    "        self.account_number = account_number\n",
    "        self.balance = balance\n",
    "    def withdraw(self,amount):\n",
    "        \n",
    "        if amount>self.balance:\n",
    "            print(\"insufficent funds\")\n",
    "        else:\n",
    "            self.balance -= amount\n",
    "            print(f\"withdraw amount : {amount}, balance :{self.balance}\")\n",
    "    def deposit(self, amount):\n",
    "        self.balance += amount\n",
    "        print(f\"deposited :{amount}, balance :{self.balance}\")\n",
    "bank = Bankaccount(1002,10000)\n",
    "bank.withdraw(100)\n",
    "bank.deposit(2000)"
   ]
  },
  {
   "cell_type": "markdown",
   "metadata": {},
   "source": [
    "### assignment 4 \n"
   ]
  },
  {
   "cell_type": "code",
   "execution_count": 2,
   "metadata": {},
   "outputs": [
    {
     "name": "stdout",
     "output_type": "stream",
     "text": [
      "harsha 18 101\n"
     ]
    }
   ],
   "source": [
    "class person:\n",
    "    def __init__(self,name,age) -> None:\n",
    "        self.name = name \n",
    "        self.age = age \n",
    "class employee(person):\n",
    "    def __init__(self, name, age,employye_id) -> None:\n",
    "        super().__init__(name, age)\n",
    "        self.employye_id = employye_id\n",
    "p1 = employee(\"harsha\", 18,101)\n",
    "print(p1.name,p1.age,p1.employye_id)"
   ]
  },
  {
   "cell_type": "markdown",
   "metadata": {},
   "source": [
    "### Assignment 5\n",
    "\n",
    "'__str__' is default method \n"
   ]
  },
  {
   "cell_type": "code",
   "execution_count": 6,
   "metadata": {},
   "outputs": [
    {
     "name": "stdout",
     "output_type": "stream",
     "text": [
      "name :harsha,age : 18 , employee_id : e101\n"
     ]
    }
   ],
   "source": [
    "class employee(person):\n",
    "    def __init__(self, name, age,employee_id) -> None:\n",
    "        super().__init__(name, age)\n",
    "        self.employee_id = employee_id\n",
    "    def __str__(self) -> str:\n",
    "        return f\"name :{self.name},age : {self.age} , employee_id : {self.employee_id}\"\n",
    "emp = employee(\"harsha\",18,\"e101\")\n",
    "print(emp)"
   ]
  },
  {
   "cell_type": "markdown",
   "metadata": {},
   "source": [
    "### assignment 7\n"
   ]
  },
  {
   "cell_type": "code",
   "execution_count": 7,
   "metadata": {},
   "outputs": [
    {
     "name": "stdout",
     "output_type": "stream",
     "text": [
      "10/1 nyy new york\n"
     ]
    }
   ],
   "source": [
    "class Address:\n",
    "    def __init__(self,street,city,zip_code) -> None:\n",
    "        self.street = street\n",
    "        self.city = city\n",
    "        self.zip_code = zip_code\n",
    "class Person(Address):\n",
    "    def __init__(self, street, city, zip_code,address) -> None:\n",
    "        super().__init__(street, city, zip_code)\n",
    "        self.address = address\n",
    "person_1 = Person(\"nyy\",\"new york\", 600018,\"10/1 nyy new york\")\n",
    "print(person_1.address)"
   ]
  },
  {
   "cell_type": "markdown",
   "metadata": {},
   "source": [
    "### assignment 8\n"
   ]
  },
  {
   "cell_type": "code",
   "execution_count": 10,
   "metadata": {},
   "outputs": [
    {
     "name": "stdout",
     "output_type": "stream",
     "text": [
      "1\n"
     ]
    }
   ],
   "source": [
    "class conter:\n",
    "    count = 0\n",
    "    def __init__(self) -> None:\n",
    "        conter.count +=1\n",
    "\n",
    "    @classmethod\n",
    "    def get_count(cls):\n",
    "        return cls.count\n",
    "    \n",
    "cou=conter()\n",
    "print(conter.get_count())"
   ]
  },
  {
   "cell_type": "markdown",
   "metadata": {},
   "source": [
    "### assignment 9\n"
   ]
  },
  {
   "cell_type": "code",
   "execution_count": 12,
   "metadata": {},
   "outputs": [
    {
     "name": "stdout",
     "output_type": "stream",
     "text": [
      "100\n"
     ]
    }
   ],
   "source": [
    "class Mathoperation:\n",
    "    @staticmethod\n",
    "    def sqrt(x):\n",
    "        return x**2\n",
    "ma = Mathoperation.sqrt(10)\n",
    "print(ma)"
   ]
  },
  {
   "cell_type": "markdown",
   "metadata": {},
   "source": [
    "### assignment 9\n"
   ]
  },
  {
   "cell_type": "code",
   "execution_count": null,
   "metadata": {},
   "outputs": [],
   "source": [
    "class rectangle:\n",
    "    def __init__(self,lenght,width) -> None:\n",
    "        self.lenght = lenght\n",
    "        self.width = width\n",
    "    def sqrt(self):\n",
    "        return "
   ]
  },
  {
   "cell_type": "markdown",
   "metadata": {},
   "source": [
    "### assignment 10\n"
   ]
  },
  {
   "cell_type": "code",
   "execution_count": 5,
   "metadata": {},
   "outputs": [
    {
     "name": "stdout",
     "output_type": "stream",
     "text": [
      "6\n",
      "123\n",
      "10\n",
      "10\n"
     ]
    }
   ],
   "source": [
    "class rectangle:\n",
    "    def __init__(self,lenght,width) -> None:\n",
    "        self.__lenght = lenght\n",
    "        self.__width = width\n",
    "    def get_lenght(self):\n",
    "        return self.__lenght\n",
    "    def get_width(self):\n",
    "        return self.__width\n",
    "    def set_lenght(self,lenght):\n",
    "        self.__lenght = lenght\n",
    "    def set_width(self,width):\n",
    "        self.__width = width\n",
    "\n",
    "\n",
    "shape = rectangle(6,123)\n",
    "print(shape.get_lenght())\n",
    "print(shape.get_width())\n",
    "shape.set_width(10)\n",
    "shape.set_lenght(10)\n",
    "print(shape.get_lenght())\n",
    "print(shape.get_width())"
   ]
  },
  {
   "cell_type": "markdown",
   "metadata": {},
   "source": [
    "### assignment 11\n"
   ]
  },
  {
   "cell_type": "code",
   "execution_count": 11,
   "metadata": {},
   "outputs": [
    {
     "name": "stdout",
     "output_type": "stream",
     "text": [
      "12.566\n",
      "10\n"
     ]
    }
   ],
   "source": [
    "from abc import ABC,abstractmethod\n",
    "class shape(ABC):\n",
    "    @abstractmethod\n",
    "    def area(self):\n",
    "        pass\n",
    "\n",
    "class circle(shape):\n",
    "    def __init__(self,radius) -> None:\n",
    "        self.radius = radius\n",
    "    def area(self):\n",
    "        return 3.1415*(self.radius**2)\n",
    "\n",
    "class square(shape):\n",
    "    def __init__(self,lenght,width) -> None:\n",
    "        self.lenght = lenght\n",
    "        self.width = width\n",
    "    def area(self):\n",
    "        return self.lenght*self.width\n",
    "    \n",
    "\n",
    "sq = square(2,5)\n",
    "cir = circle(2)\n",
    "print(cir.area())\n",
    "print(sq.area())"
   ]
  }
 ],
 "metadata": {
  "kernelspec": {
   "display_name": "base",
   "language": "python",
   "name": "python3"
  },
  "language_info": {
   "codemirror_mode": {
    "name": "ipython",
    "version": 3
   },
   "file_extension": ".py",
   "mimetype": "text/x-python",
   "name": "python",
   "nbconvert_exporter": "python",
   "pygments_lexer": "ipython3",
   "version": "3.10.14"
  }
 },
 "nbformat": 4,
 "nbformat_minor": 2
}
