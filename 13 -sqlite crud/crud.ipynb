{
 "cells": [
  {
   "cell_type": "code",
   "execution_count": 38,
   "metadata": {},
   "outputs": [],
   "source": [
    "import sqlite3 as sq\n",
    "connection = sq.connect(\"sale.db\")"
   ]
  },
  {
   "cell_type": "code",
   "execution_count": 39,
   "metadata": {},
   "outputs": [],
   "source": [
    "cursor = sq.Cursor(connection)\n",
    "cursor.execute('''\n",
    "create table if not exists employee(\n",
    "emp_id int primary key,\n",
    "emp_name text not null,\n",
    "sal int not null )''')\n",
    "connection.commit()"
   ]
  },
  {
   "cell_type": "code",
   "execution_count": 40,
   "metadata": {},
   "outputs": [
    {
     "data": {
      "text/plain": [
       "<sqlite3.Cursor at 0x28fb7bbbe40>"
      ]
     },
     "execution_count": 40,
     "metadata": {},
     "output_type": "execute_result"
    }
   ],
   "source": [
    "cursor.execute('''insert into employee(emp_id,emp_name,sal) values(121,'haarsha',30000)''')"
   ]
  },
  {
   "cell_type": "code",
   "execution_count": 41,
   "metadata": {},
   "outputs": [],
   "source": [
    "def fetch():\n",
    "    cursor.execute(''' select * from employee''')\n",
    "    record = cursor.fetchall()\n",
    "    for row in record:\n",
    "        print(row)"
   ]
  },
  {
   "cell_type": "code",
   "execution_count": 42,
   "metadata": {},
   "outputs": [],
   "source": [
    "def insert(record):\n",
    "    cursor.executemany('''insert into employee(emp_id,emp_name,sal) values(?,?,?)''',record)\n",
    "record =[(130,'haarsha',30000),(131,'haarsha',30000),(133,'haarsha',30000),(134,'haarsha',30000)]\n",
    "insert(record)"
   ]
  },
  {
   "cell_type": "code",
   "execution_count": 43,
   "metadata": {},
   "outputs": [
    {
     "name": "stdout",
     "output_type": "stream",
     "text": [
      "(121, 'haarsha', 30000)\n",
      "(130, 'haarsha', 30000)\n",
      "(131, 'haarsha', 30000)\n",
      "(133, 'haarsha', 30000)\n",
      "(134, 'haarsha', 30000)\n"
     ]
    }
   ],
   "source": [
    "fetch()"
   ]
  },
  {
   "cell_type": "code",
   "execution_count": 44,
   "metadata": {},
   "outputs": [
    {
     "data": {
      "text/plain": [
       "<sqlite3.Cursor at 0x28fb7bbbe40>"
      ]
     },
     "execution_count": 44,
     "metadata": {},
     "output_type": "execute_result"
    }
   ],
   "source": [
    "cursor.execute('''\n",
    "update employee\n",
    "set sal=34000\n",
    "where emp_id=101''')"
   ]
  },
  {
   "cell_type": "code",
   "execution_count": 45,
   "metadata": {},
   "outputs": [
    {
     "name": "stdout",
     "output_type": "stream",
     "text": [
      "(121, 'haarsha', 30000)\n",
      "(130, 'haarsha', 30000)\n",
      "(131, 'haarsha', 30000)\n",
      "(133, 'haarsha', 30000)\n",
      "(134, 'haarsha', 30000)\n"
     ]
    }
   ],
   "source": [
    "fetch()"
   ]
  },
  {
   "cell_type": "code",
   "execution_count": 46,
   "metadata": {},
   "outputs": [
    {
     "name": "stdout",
     "output_type": "stream",
     "text": [
      "(121, 'haarsha', 30000)\n",
      "(130, 'haarsha', 30000)\n",
      "(131, 'haarsha', 30000)\n",
      "(133, 'haarsha', 30000)\n",
      "(134, 'haarsha', 30000)\n"
     ]
    }
   ],
   "source": [
    "#cursor.execute('''drop table employee''')\n",
    "cursor.execute('''delete from  employee where emp_id= 101''')\n",
    "fetch()"
   ]
  },
  {
   "cell_type": "code",
   "execution_count": 47,
   "metadata": {},
   "outputs": [],
   "source": [
    "cursor.execute('''drop table employee''')\n",
    "connection.commit()"
   ]
  },
  {
   "cell_type": "code",
   "execution_count": null,
   "metadata": {},
   "outputs": [],
   "source": []
  }
 ],
 "metadata": {
  "kernelspec": {
   "display_name": "Python 3",
   "language": "python",
   "name": "python3"
  },
  "language_info": {
   "codemirror_mode": {
    "name": "ipython",
    "version": 3
   },
   "file_extension": ".py",
   "mimetype": "text/x-python",
   "name": "python",
   "nbconvert_exporter": "python",
   "pygments_lexer": "ipython3",
   "version": "3.11.0"
  }
 },
 "nbformat": 4,
 "nbformat_minor": 2
}
