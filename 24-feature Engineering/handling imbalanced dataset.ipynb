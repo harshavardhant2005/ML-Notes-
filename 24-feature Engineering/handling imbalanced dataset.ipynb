{
 "cells": [
  {
   "cell_type": "code",
   "execution_count": null,
   "id": "06892710",
   "metadata": {},
   "outputs": [],
   "source": [
    "import numpy as np\n",
    "import pandas as pd\n",
    "np.random.seed(123)\n",
    "n_samples = 1000\n",
    "class_0_ratio = 0.9\n",
    "n_class_0 = int(n_samples * class_0_ratio)\n",
    "n_class_1 = n_samples - n_class_0"
   ]
  },
  {
   "cell_type": "markdown",
   "id": "26b0ec0a",
   "metadata": {},
   "source": [
    "below loc defines mean and scale is standard deviation "
   ]
  },
  {
   "cell_type": "code",
   "execution_count": 4,
   "id": "cec3748f",
   "metadata": {},
   "outputs": [],
   "source": [
    "class_0 = pd.DataFrame({\"f1\":np.random.normal(loc=0,scale=1,size=n_class_0),\"f2\":np.random.normal(loc=0,scale=1,size=n_class_0),\"target\":[0]*n_class_0})\n",
    "class_1 = pd.DataFrame({\"f1\":np.random.normal(loc=0,scale=1,size=n_class_1),\"f2\":np.random.normal(loc=0,scale=1,size=n_class_1),\"target\":[1]*n_class_1})"
   ]
  },
  {
   "cell_type": "code",
   "execution_count": 5,
   "id": "8781f0a7",
   "metadata": {},
   "outputs": [
    {
     "data": {
      "text/plain": [
       "target\n",
       "0    900\n",
       "1    100\n",
       "Name: count, dtype: int64"
      ]
     },
     "execution_count": 5,
     "metadata": {},
     "output_type": "execute_result"
    }
   ],
   "source": [
    "df = pd.concat([class_0, class_1]).reset_index(drop=True)\n",
    "df[\"target\"].value_counts()"
   ]
  },
  {
   "cell_type": "code",
   "execution_count": 6,
   "id": "b0fea0cb",
   "metadata": {},
   "outputs": [],
   "source": [
    "miniority=df[df[\"target\"]==1]\n",
    "majority=df[df[\"target\"]==0]"
   ]
  },
  {
   "cell_type": "markdown",
   "id": "ff49e81a",
   "metadata": {},
   "source": [
    "### upsampling \n"
   ]
  },
  {
   "cell_type": "code",
   "execution_count": 15,
   "id": "6418fb1f",
   "metadata": {},
   "outputs": [],
   "source": [
    "from sklearn.utils import resample\n",
    "miniority_updated = resample(miniority,replace=True,n_samples=len(majority))"
   ]
  },
  {
   "cell_type": "code",
   "execution_count": 16,
   "id": "89ab53a2",
   "metadata": {},
   "outputs": [
    {
     "data": {
      "text/plain": [
       "target\n",
       "1    900\n",
       "0    900\n",
       "Name: count, dtype: int64"
      ]
     },
     "execution_count": 16,
     "metadata": {},
     "output_type": "execute_result"
    }
   ],
   "source": [
    "new = pd.concat([miniority_updated,majority])\n",
    "new[\"target\"].value_counts()"
   ]
  },
  {
   "cell_type": "markdown",
   "id": "32dfc17d",
   "metadata": {},
   "source": [
    "### downsampling "
   ]
  },
  {
   "cell_type": "code",
   "execution_count": 13,
   "id": "eeefed4d",
   "metadata": {},
   "outputs": [],
   "source": [
    "majority_updated = resample(majority,replace=False,n_samples=len(miniority))\n"
   ]
  },
  {
   "cell_type": "code",
   "execution_count": 14,
   "id": "31082686",
   "metadata": {},
   "outputs": [
    {
     "data": {
      "text/plain": [
       "target\n",
       "0    100\n",
       "1    100\n",
       "Name: count, dtype: int64"
      ]
     },
     "execution_count": 14,
     "metadata": {},
     "output_type": "execute_result"
    }
   ],
   "source": [
    "new = pd.concat([majority_updated,miniority])\n",
    "new[\"target\"].value_counts()"
   ]
  }
 ],
 "metadata": {
  "kernelspec": {
   "display_name": "Python 3",
   "language": "python",
   "name": "python3"
  },
  "language_info": {
   "codemirror_mode": {
    "name": "ipython",
    "version": 3
   },
   "file_extension": ".py",
   "mimetype": "text/x-python",
   "name": "python",
   "nbconvert_exporter": "python",
   "pygments_lexer": "ipython3",
   "version": "3.11.0"
  }
 },
 "nbformat": 4,
 "nbformat_minor": 5
}
