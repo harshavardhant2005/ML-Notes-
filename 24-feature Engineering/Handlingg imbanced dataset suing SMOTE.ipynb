{
 "cells": [
  {
   "cell_type": "code",
   "execution_count": 1,
   "id": "4816ee75",
   "metadata": {},
   "outputs": [],
   "source": [
    "import seaborn as sns \n"
   ]
  },
  {
   "cell_type": "markdown",
   "id": "7577c521",
   "metadata": {},
   "source": [
    "### creating imbalanced dataset "
   ]
  },
  {
   "cell_type": "code",
   "execution_count": 2,
   "id": "e7a78d46",
   "metadata": {},
   "outputs": [],
   "source": [
    "\n",
    "from sklearn.datasets import make_classification"
   ]
  },
  {
   "cell_type": "code",
   "execution_count": 3,
   "id": "d2efae14",
   "metadata": {},
   "outputs": [],
   "source": [
    "X, y = make_classification(\n",
    "    n_samples=1000,\n",
    "    n_features=2,\n",
    "    n_redundant=0,\n",
    "    n_informative=2,\n",
    "    n_clusters_per_class=1,\n",
    "    weights=[0.9, 0.1],  # 90% class 0, 10% class 1\n",
    "    random_state=42\n",
    ")"
   ]
  },
  {
   "cell_type": "code",
   "execution_count": 4,
   "id": "7c5b7df2",
   "metadata": {},
   "outputs": [],
   "source": [
    "import pandas as pd"
   ]
  },
  {
   "cell_type": "code",
   "execution_count": 5,
   "id": "bd380f6e",
   "metadata": {},
   "outputs": [],
   "source": [
    "df = pd.DataFrame(X,columns=[\"f1\",\"f2\"])\n",
    "df[\"tar\"] = y"
   ]
  },
  {
   "cell_type": "markdown",
   "id": "574a7bb0",
   "metadata": {},
   "source": [
    "## using smote "
   ]
  },
  {
   "cell_type": "code",
   "execution_count": 7,
   "id": "4160a7fd",
   "metadata": {},
   "outputs": [],
   "source": [
    "from imblearn.over_sampling import SMOTE"
   ]
  },
  {
   "cell_type": "code",
   "execution_count": 8,
   "id": "5d63421a",
   "metadata": {},
   "outputs": [],
   "source": [
    "over_sample = SMOTE()\n",
    "x,y = over_sample.fit_resample(df[[\"f1\",\"f2\"]],df[[\"tar\"]])\n"
   ]
  }
 ],
 "metadata": {
  "kernelspec": {
   "display_name": "Python 3",
   "language": "python",
   "name": "python3"
  },
  "language_info": {
   "codemirror_mode": {
    "name": "ipython",
    "version": 3
   },
   "file_extension": ".py",
   "mimetype": "text/x-python",
   "name": "python",
   "nbconvert_exporter": "python",
   "pygments_lexer": "ipython3",
   "version": "3.11.0"
  }
 },
 "nbformat": 4,
 "nbformat_minor": 5
}
