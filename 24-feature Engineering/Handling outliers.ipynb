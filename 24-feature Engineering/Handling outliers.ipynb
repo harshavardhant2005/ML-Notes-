{
 "cells": [
  {
   "cell_type": "code",
   "execution_count": null,
   "id": "a49374cd",
   "metadata": {},
   "outputs": [
    {
     "name": "stdout",
     "output_type": "stream",
     "text": [
      "[51, 45, 18, 43, 61, 89, 21, 80, 48, 75, 69, 72, 2, 60, 2, 25, 100, 93, 98, 94, 11, 86, 99, 92, 85, 55, 80, 55, 69, 42, 82, 92, 30, 29, 27, 72, 74, 41, 55, 82, 99, 41, 40, 45, 41, 93, 2, 28, 42, 87]\n"
     ]
    }
   ],
   "source": [
    "import numpy as np \n",
    "import random\n",
    "marks_lst = [random.randint(1,100) for i in range(50)]\n",
    "print(marks_lst)"
   ]
  },
  {
   "cell_type": "code",
   "execution_count": null,
   "id": "c6ab645c",
   "metadata": {},
   "outputs": [
    {
     "name": "stdout",
     "output_type": "stream",
     "text": [
      "-90.0 40.25 65.0 92.0 990.0\n"
     ]
    }
   ],
   "source": [
    "\n",
    "marks_lst.extend([150, 120, -30, -90, 100])\n",
    "mini, q1, median,q3,maxi = np.quantile(marks_lst,[0,0.25,0.5,0.75,1])\n",
    "print(mini, q1, median,q3,maxi )"
   ]
  },
  {
   "cell_type": "code",
   "execution_count": 28,
   "id": "5b8d7853",
   "metadata": {},
   "outputs": [
    {
     "name": "stdout",
     "output_type": "stream",
     "text": [
      "51.75\n"
     ]
    }
   ],
   "source": [
    "iqr = q3-q1\n",
    "print(iqr)"
   ]
  },
  {
   "cell_type": "code",
   "execution_count": 29,
   "id": "00a5910c",
   "metadata": {},
   "outputs": [
    {
     "name": "stdout",
     "output_type": "stream",
     "text": [
      "-37.375 169.625\n"
     ]
    }
   ],
   "source": [
    "lower = q1-1.5*iqr\n",
    "upper = q3+1.5*iqr\n",
    "print(lower, upper)"
   ]
  },
  {
   "cell_type": "code",
   "execution_count": 30,
   "id": "7e99e862",
   "metadata": {},
   "outputs": [
    {
     "name": "stdout",
     "output_type": "stream",
     "text": [
      "Outliers: [-90, 990, 300, -90]\n"
     ]
    }
   ],
   "source": [
    "outliers = [x for x in marks_lst if x < lower or x > upper]\n",
    "print(f\"Outliers: {outliers}\")"
   ]
  },
  {
   "cell_type": "markdown",
   "id": "895db046",
   "metadata": {},
   "source": [
    "### boxplot "
   ]
  },
  {
   "cell_type": "code",
   "execution_count": 31,
   "id": "29dfd75e",
   "metadata": {},
   "outputs": [
    {
     "data": {
      "text/plain": [
       "<Axes: >"
      ]
     },
     "execution_count": 31,
     "metadata": {},
     "output_type": "execute_result"
    },
    {
     "data": {
      "image/png": "[encoded data removed]",
      "text/plain": [
       "<Figure size 640x480 with 1 Axes>"
      ]
     },
     "metadata": {},
     "output_type": "display_data"
    }
   ],
   "source": [
    "import seaborn as sns \n",
    "sns.boxplot(marks_lst)"
   ]
  }
 ],
 "metadata": {
  "kernelspec": {
   "display_name": "Python 3",
   "language": "python",
   "name": "python3"
  },
  "language_info": {
   "codemirror_mode": {
    "name": "ipython",
    "version": 3
   },
   "file_extension": ".py",
   "mimetype": "text/x-python",
   "name": "python",
   "nbconvert_exporter": "python",
   "pygments_lexer": "ipython3",
   "version": "3.11.0"
  }
 },
 "nbformat": 4,
 "nbformat_minor": 5
}
