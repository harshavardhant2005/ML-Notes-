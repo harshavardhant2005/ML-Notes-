{
 "cells": [
  {
   "cell_type": "code",
   "execution_count": 4,
   "metadata": {},
   "outputs": [],
   "source": [
    "import threading\n",
    "import time \n",
    "def print_num():\n",
    "    for i in range(5):\n",
    "        time.sleep(2)\n",
    "        print(i)\n",
    "def print_letters():\n",
    "    for i in \"abcde\":\n",
    "        time.sleep(3)\n",
    "        print(i)\n",
    "\n"
   ]
  },
  {
   "cell_type": "markdown",
   "metadata": {},
   "source": [
    "in below code we are excueting inter thread communication \n"
   ]
  },
  {
   "cell_type": "code",
   "execution_count": null,
   "metadata": {},
   "outputs": [
    {
     "name": "stdout",
     "output_type": "stream",
     "text": [
      "0\n",
      "1\n",
      "2\n",
      "3\n",
      "4\n"
     ]
    }
   ],
   "source": [
    "t1 = threading.Thread(target=print_num)\n",
    "t2 = threading.Thread(target=print_letters)\n",
    "t1.start()\n",
    "t2.start()\n",
    "\n",
    "t1.join()\n",
    "t2.join()\n",
    "\n",
    "\n",
    "\n",
    "# print_letters()\n",
    "# print_num()"
   ]
  },
  {
   "cell_type": "markdown",
   "metadata": {},
   "source": [
    "### multi threading using threadpoolexcetor"
   ]
  },
  {
   "cell_type": "code",
   "execution_count": 6,
   "metadata": {},
   "outputs": [],
   "source": [
    "from concurrent.futures import ThreadPoolExecutor\n",
    "import time\n",
    "n = [1,2,34,5,5,6,7,5,6,6,6,6,5]\n",
    "def sq_num(n):\n",
    "    time.sleep(1)    \n",
    "    return f\"number ={n}\""
   ]
  },
  {
   "cell_type": "code",
   "execution_count": 13,
   "metadata": {},
   "outputs": [
    {
     "name": "stdout",
     "output_type": "stream",
     "text": [
      "number =1\n",
      "number =2\n",
      "number =34\n",
      "number =5\n",
      "number =5\n",
      "number =6\n",
      "number =7\n",
      "number =5\n",
      "number =6\n",
      "number =6\n",
      "number =6\n",
      "number =6\n",
      "number =5\n"
     ]
    }
   ],
   "source": [
    "with ThreadPoolExecutor(max_workers=3) as excuetor :\n",
    "    res = excuetor.map(sq_num,n)\n",
    "for result in res :\n",
    "    print(result)"
   ]
  },
  {
   "cell_type": "code",
   "execution_count": null,
   "metadata": {},
   "outputs": [],
   "source": []
  }
 ],
 "metadata": {
  "kernelspec": {
   "display_name": "Python 3",
   "language": "python",
   "name": "python3"
  },
  "language_info": {
   "codemirror_mode": {
    "name": "ipython",
    "version": 3
   },
   "file_extension": ".py",
   "mimetype": "text/x-python",
   "name": "python",
   "nbconvert_exporter": "python",
   "pygments_lexer": "ipython3",
   "version": "3.11.0"
  }
 },
 "nbformat": 4,
 "nbformat_minor": 2
}
